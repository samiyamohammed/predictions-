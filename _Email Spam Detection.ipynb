{
 "cells": [
  {
   "cell_type": "code",
   "execution_count": 1,
   "id": "c2f7bbc7-13b7-4aa9-8bf3-364cde6fcd38",
   "metadata": {},
   "outputs": [],
   "source": [
    "#import required libraries\n",
    "import pandas as pd\n",
    "import numpy as np\n",
    "import matplotlib.pyplot as plt\n",
    "%matplotlib inline\n",
    "import seaborn as sns\n",
    "\n",
    "#import models from scikit learn module:\n",
    "from sklearn.model_selection import train_test_split\n",
    "from sklearn import metrics # performance evaluation"
   ]
  },
  {
   "cell_type": "code",
   "execution_count": 9,
   "id": "c3caa966-3d20-4689-bc08-6112a2d28f50",
   "metadata": {},
   "outputs": [
    {
     "data": {
      "text/html": [
       "<div>\n",
       "<style scoped>\n",
       "    .dataframe tbody tr th:only-of-type {\n",
       "        vertical-align: middle;\n",
       "    }\n",
       "\n",
       "    .dataframe tbody tr th {\n",
       "        vertical-align: top;\n",
       "    }\n",
       "\n",
       "    .dataframe thead th {\n",
       "        text-align: right;\n",
       "    }\n",
       "</style>\n",
       "<table border=\"1\" class=\"dataframe\">\n",
       "  <thead>\n",
       "    <tr style=\"text-align: right;\">\n",
       "      <th></th>\n",
       "      <th>Category</th>\n",
       "      <th>Message</th>\n",
       "    </tr>\n",
       "  </thead>\n",
       "  <tbody>\n",
       "    <tr>\n",
       "      <th>3072</th>\n",
       "      <td>ham</td>\n",
       "      <td>Apart from the one i told you about yesterday?</td>\n",
       "    </tr>\n",
       "    <tr>\n",
       "      <th>1616</th>\n",
       "      <td>ham</td>\n",
       "      <td>Mm i had my food da from out</td>\n",
       "    </tr>\n",
       "    <tr>\n",
       "      <th>3361</th>\n",
       "      <td>ham</td>\n",
       "      <td>Please attend the phone:)</td>\n",
       "    </tr>\n",
       "    <tr>\n",
       "      <th>4351</th>\n",
       "      <td>ham</td>\n",
       "      <td>Yes. Rent is very expensive so its the way we ...</td>\n",
       "    </tr>\n",
       "    <tr>\n",
       "      <th>199</th>\n",
       "      <td>ham</td>\n",
       "      <td>Hi its Kate how is your evening? I hope i can ...</td>\n",
       "    </tr>\n",
       "    <tr>\n",
       "      <th>262</th>\n",
       "      <td>ham</td>\n",
       "      <td>Anyway i'm going shopping on my own now. Cos m...</td>\n",
       "    </tr>\n",
       "    <tr>\n",
       "      <th>4112</th>\n",
       "      <td>spam</td>\n",
       "      <td>URGENT! Your Mobile number has been awarded a ...</td>\n",
       "    </tr>\n",
       "    <tr>\n",
       "      <th>1714</th>\n",
       "      <td>spam</td>\n",
       "      <td>Hard LIVE 121 chat just 60p/min. Choose your g...</td>\n",
       "    </tr>\n",
       "    <tr>\n",
       "      <th>463</th>\n",
       "      <td>spam</td>\n",
       "      <td>UpgrdCentre Orange customer, you may now claim...</td>\n",
       "    </tr>\n",
       "    <tr>\n",
       "      <th>714</th>\n",
       "      <td>ham</td>\n",
       "      <td>Save yourself the stress. If the person has a ...</td>\n",
       "    </tr>\n",
       "  </tbody>\n",
       "</table>\n",
       "</div>"
      ],
      "text/plain": [
       "     Category                                            Message\n",
       "3072      ham     Apart from the one i told you about yesterday?\n",
       "1616      ham                       Mm i had my food da from out\n",
       "3361      ham                          Please attend the phone:)\n",
       "4351      ham  Yes. Rent is very expensive so its the way we ...\n",
       "199       ham  Hi its Kate how is your evening? I hope i can ...\n",
       "262       ham  Anyway i'm going shopping on my own now. Cos m...\n",
       "4112     spam  URGENT! Your Mobile number has been awarded a ...\n",
       "1714     spam  Hard LIVE 121 chat just 60p/min. Choose your g...\n",
       "463      spam  UpgrdCentre Orange customer, you may now claim...\n",
       "714       ham  Save yourself the stress. If the person has a ..."
      ]
     },
     "execution_count": 9,
     "metadata": {},
     "output_type": "execute_result"
    }
   ],
   "source": [
    "#import Data\n",
    "df_mail = pd.read_csv('mail_data.csv')\n",
    "df_mail.sample(10)"
   ]
  },
  {
   "cell_type": "code",
   "execution_count": 13,
   "id": "1c02851a-8d1e-4820-9064-305424dfb4be",
   "metadata": {},
   "outputs": [
    {
     "name": "stdout",
     "output_type": "stream",
     "text": [
      "Index(['Category', 'Message'], dtype='object')\n"
     ]
    }
   ],
   "source": [
    "# Print the column names to identify the correct column for spam labels\n",
    "print(df_mail.columns)"
   ]
  },
  {
   "cell_type": "code",
   "execution_count": 19,
   "id": "1278525c-b7ad-40ac-9efd-609321748d91",
   "metadata": {},
   "outputs": [
    {
     "name": "stdout",
     "output_type": "stream",
     "text": [
      "Unique values in 'Category' column: ['ham' 'spam']\n",
      "Number of spam texts: 747\n"
     ]
    }
   ],
   "source": [
    "# Updated counting script based on unique values found\n",
    "if 'Category' in df_mail.columns:\n",
    "    # Inspecting the unique values might reveal the correct spam indicator\n",
    "    unique_values = df_mail['Category'].unique()\n",
    "    print(f\"Unique values in 'Category' column: {unique_values}\")\n",
    "    \n",
    "    # Check if spam is represented by 'spam' or a string '1'\n",
    "    if 'spam' in unique_values:\n",
    "        spam_count = df_mail[df_mail['Category'] == 'spam'].shape[0]\n",
    "    elif '1' in unique_values:\n",
    "        spam_count = df_mail[df_mail['Category'] == '1'].shape[0]\n",
    "    elif 1 in unique_values:\n",
    "        spam_count = df_mail[df_mail['Category'] == 1].shape[0]\n",
    "    else:\n",
    "        print(\"Unable to determine the spam indicator. Please check the unique values.\")\n",
    "        spam_count = 0\n",
    "    \n",
    "    print(f'Number of spam texts: {spam_count}')\n",
    "else:\n",
    "    print(\"The column 'Category' does not exist in the dataset.\")\n"
   ]
  },
  {
   "cell_type": "code",
   "execution_count": 23,
   "id": "986efc2b-8896-41e4-9880-f93fce17f73c",
   "metadata": {},
   "outputs": [
    {
     "name": "stdout",
     "output_type": "stream",
     "text": [
      "Unique values in 'Category' column: ['ham' 'spam']\n"
     ]
    }
   ],
   "source": [
    "if 'Category' in df_mail.columns:\n",
    "    unique_values = df_mail['Category'].unique()\n",
    "    print(f\"Unique values in 'Category' column: {unique_values}\")\n",
    "    \n",
    "    # Determine the spam and ham indicators\n",
    "    spam_indicator = None\n",
    "    ham_indicator = None\n",
    "    \n",
    "    if 'spam' in unique_values:\n",
    "        spam_indicator = 'spam'\n",
    "    elif '1' in unique_values:\n",
    "        spam_indicator = '1'\n",
    "    elif 1 in unique_values:\n",
    "        spam_indicator = 1\n",
    "    \n",
    "    if 'ham' in unique_values:\n",
    "        ham_indicator = 'ham'\n",
    "    elif '0' in unique_values:\n",
    "        ham_indicator = '0'\n",
    "    elif 0 in unique_values:\n",
    "        ham_indicator = 0\n",
    "else:\n",
    "    print(\"The column 'Category' does not exist in the dataset.\")\n"
   ]
  },
  {
   "cell_type": "code",
   "execution_count": 24,
   "id": "f6376c76-167e-42a2-a118-f23d2697ca3a",
   "metadata": {},
   "outputs": [
    {
     "name": "stdout",
     "output_type": "stream",
     "text": [
      "Number of spam texts: 747\n"
     ]
    }
   ],
   "source": [
    "if spam_indicator is not None:\n",
    "    spam_count = df_mail[df_mail['Category'] == spam_indicator].shape[0]\n",
    "    print(f'Number of spam texts: {spam_count}')\n",
    "else:\n",
    "    print(\"Unable to determine the spam indicator. Please check the unique values.\")\n"
   ]
  },
  {
   "cell_type": "code",
   "execution_count": 25,
   "id": "9a1d8a8b-2f8c-4541-959a-4343a60b0c3f",
   "metadata": {},
   "outputs": [
    {
     "name": "stdout",
     "output_type": "stream",
     "text": [
      "Number of ham texts: 4825\n"
     ]
    }
   ],
   "source": [
    "if ham_indicator is not None:\n",
    "    ham_count = df_mail[df_mail['Category'] == ham_indicator].shape[0]\n",
    "    print(f'Number of ham texts: {ham_count}')\n",
    "else:\n",
    "    print(\"Unable to determine the ham indicator. Please check the unique values.\")\n"
   ]
  },
  {
   "cell_type": "code",
   "execution_count": 26,
   "id": "000bb96c-9f0d-4f9a-a270-551f9e9a6337",
   "metadata": {},
   "outputs": [
    {
     "data": {
      "text/plain": [
       "Category    0\n",
       "Message     0\n",
       "dtype: int64"
      ]
     },
     "execution_count": 26,
     "metadata": {},
     "output_type": "execute_result"
    }
   ],
   "source": [
    "df_mail.isnull().sum()"
   ]
  },
  {
   "cell_type": "code",
   "execution_count": 28,
   "id": "a9f1f0a5-3fc3-42a8-9fd0-de229a98bd83",
   "metadata": {},
   "outputs": [
    {
     "data": {
      "image/png": "[encoded data removed]",
      "text/plain": [
       "<Figure size 640x480 with 1 Axes>"
      ]
     },
     "metadata": {},
     "output_type": "display_data"
    }
   ],
   "source": [
    "# Countplot\n",
    "sns.countplot(x='Category', data=df_mail)\n",
    "plt.title('Number of Spam vs Ham Emails')\n",
    "plt.xlabel('Category')\n",
    "plt.ylabel('Count')\n",
    "plt.show()"
   ]
  },
  {
   "cell_type": "code",
   "execution_count": 29,
   "id": "924b54be-470b-482a-ba1c-bd19b1d4abf5",
   "metadata": {},
   "outputs": [],
   "source": [
    "# Define X variables and our target (y)\n",
    "X = df_mail.drop(['Category'], axis=1).values  # Assuming you have features other than 'Category'\n",
    "y = df_mail['Category'].values\n",
    "\n",
    "# Split Train and Test\n",
    "from sklearn.model_selection import train_test_split\n",
    "X_train, X_test, y_train, y_test = train_test_split(X, y, test_size=0.25, random_state=101)\n"
   ]
  },
  {
   "cell_type": "code",
   "execution_count": 33,
   "id": "4218c89c-bd67-46fd-9e9c-1bde1bf65286",
   "metadata": {},
   "outputs": [
    {
     "data": {
      "text/html": [
       "<style>#sk-container-id-2 {color: black;background-color: white;}#sk-container-id-2 pre{padding: 0;}#sk-container-id-2 div.sk-toggleable {background-color: white;}#sk-container-id-2 label.sk-toggleable__label {cursor: pointer;display: block;width: 100%;margin-bottom: 0;padding: 0.3em;box-sizing: border-box;text-align: center;}#sk-container-id-2 label.sk-toggleable__label-arrow:before {content: \"▸\";float: left;margin-right: 0.25em;color: #696969;}#sk-container-id-2 label.sk-toggleable__label-arrow:hover:before {color: black;}#sk-container-id-2 div.sk-estimator:hover label.sk-toggleable__label-arrow:before {color: black;}#sk-container-id-2 div.sk-toggleable__content {max-height: 0;max-width: 0;overflow: hidden;text-align: left;background-color: #f0f8ff;}#sk-container-id-2 div.sk-toggleable__content pre {margin: 0.2em;color: black;border-radius: 0.25em;background-color: #f0f8ff;}#sk-container-id-2 input.sk-toggleable__control:checked~div.sk-toggleable__content {max-height: 200px;max-width: 100%;overflow: auto;}#sk-container-id-2 input.sk-toggleable__control:checked~label.sk-toggleable__label-arrow:before {content: \"▾\";}#sk-container-id-2 div.sk-estimator input.sk-toggleable__control:checked~label.sk-toggleable__label {background-color: #d4ebff;}#sk-container-id-2 div.sk-label input.sk-toggleable__control:checked~label.sk-toggleable__label {background-color: #d4ebff;}#sk-container-id-2 input.sk-hidden--visually {border: 0;clip: rect(1px 1px 1px 1px);clip: rect(1px, 1px, 1px, 1px);height: 1px;margin: -1px;overflow: hidden;padding: 0;position: absolute;width: 1px;}#sk-container-id-2 div.sk-estimator {font-family: monospace;background-color: #f0f8ff;border: 1px dotted black;border-radius: 0.25em;box-sizing: border-box;margin-bottom: 0.5em;}#sk-container-id-2 div.sk-estimator:hover {background-color: #d4ebff;}#sk-container-id-2 div.sk-parallel-item::after {content: \"\";width: 100%;border-bottom: 1px solid gray;flex-grow: 1;}#sk-container-id-2 div.sk-label:hover label.sk-toggleable__label {background-color: #d4ebff;}#sk-container-id-2 div.sk-serial::before {content: \"\";position: absolute;border-left: 1px solid gray;box-sizing: border-box;top: 0;bottom: 0;left: 50%;z-index: 0;}#sk-container-id-2 div.sk-serial {display: flex;flex-direction: column;align-items: center;background-color: white;padding-right: 0.2em;padding-left: 0.2em;position: relative;}#sk-container-id-2 div.sk-item {position: relative;z-index: 1;}#sk-container-id-2 div.sk-parallel {display: flex;align-items: stretch;justify-content: center;background-color: white;position: relative;}#sk-container-id-2 div.sk-item::before, #sk-container-id-2 div.sk-parallel-item::before {content: \"\";position: absolute;border-left: 1px solid gray;box-sizing: border-box;top: 0;bottom: 0;left: 50%;z-index: -1;}#sk-container-id-2 div.sk-parallel-item {display: flex;flex-direction: column;z-index: 1;position: relative;background-color: white;}#sk-container-id-2 div.sk-parallel-item:first-child::after {align-self: flex-end;width: 50%;}#sk-container-id-2 div.sk-parallel-item:last-child::after {align-self: flex-start;width: 50%;}#sk-container-id-2 div.sk-parallel-item:only-child::after {width: 0;}#sk-container-id-2 div.sk-dashed-wrapped {border: 1px dashed gray;margin: 0 0.4em 0.5em 0.4em;box-sizing: border-box;padding-bottom: 0.4em;background-color: white;}#sk-container-id-2 div.sk-label label {font-family: monospace;font-weight: bold;display: inline-block;line-height: 1.2em;}#sk-container-id-2 div.sk-label-container {text-align: center;}#sk-container-id-2 div.sk-container {/* jupyter's `normalize.less` sets `[hidden] { display: none; }` but bootstrap.min.css set `[hidden] { display: none !important; }` so we also need the `!important` here to be able to override the default hidden behavior on the sphinx rendered scikit-learn.org. See: https://github.com/scikit-learn/scikit-learn/issues/21755 */display: inline-block !important;position: relative;}#sk-container-id-2 div.sk-text-repr-fallback {display: none;}</style><div id=\"sk-container-id-2\" class=\"sk-top-container\"><div class=\"sk-text-repr-fallback\"><pre>LogisticRegression()</pre><b>In a Jupyter environment, please rerun this cell to show the HTML representation or trust the notebook. <br />On GitHub, the HTML representation is unable to render, please try loading this page with nbviewer.org.</b></div><div class=\"sk-container\" hidden><div class=\"sk-item\"><div class=\"sk-estimator sk-toggleable\"><input class=\"sk-toggleable__control sk-hidden--visually\" id=\"sk-estimator-id-2\" type=\"checkbox\" checked><label for=\"sk-estimator-id-2\" class=\"sk-toggleable__label sk-toggleable__label-arrow\">LogisticRegression</label><div class=\"sk-toggleable__content\"><pre>LogisticRegression()</pre></div></div></div></div></div>"
      ],
      "text/plain": [
       "LogisticRegression()"
      ]
     },
     "execution_count": 33,
     "metadata": {},
     "output_type": "execute_result"
    }
   ],
   "source": [
    "from sklearn.feature_extraction.text import TfidfVectorizer\n",
    "tfidf_vectorizer = TfidfVectorizer()\n",
    "X_train_tfidf = tfidf_vectorizer.fit_transform(df_mail['Message'])\n",
    "from sklearn.model_selection import train_test_split\n",
    "X_train, X_test, y_train, y_test = train_test_split(X_train_tfidf, y, test_size=0.25, random_state=101)\n",
    "logistic_model = LogisticRegression()\n",
    "logistic_model.fit(X_train, y_train)\n"
   ]
  },
  {
   "cell_type": "code",
   "execution_count": 44,
   "id": "647f450d-ee7b-4cc0-a7f0-3d82d2001fb6",
   "metadata": {},
   "outputs": [
    {
     "data": {
      "text/html": [
       "<style>#sk-container-id-3 {color: black;background-color: white;}#sk-container-id-3 pre{padding: 0;}#sk-container-id-3 div.sk-toggleable {background-color: white;}#sk-container-id-3 label.sk-toggleable__label {cursor: pointer;display: block;width: 100%;margin-bottom: 0;padding: 0.3em;box-sizing: border-box;text-align: center;}#sk-container-id-3 label.sk-toggleable__label-arrow:before {content: \"▸\";float: left;margin-right: 0.25em;color: #696969;}#sk-container-id-3 label.sk-toggleable__label-arrow:hover:before {color: black;}#sk-container-id-3 div.sk-estimator:hover label.sk-toggleable__label-arrow:before {color: black;}#sk-container-id-3 div.sk-toggleable__content {max-height: 0;max-width: 0;overflow: hidden;text-align: left;background-color: #f0f8ff;}#sk-container-id-3 div.sk-toggleable__content pre {margin: 0.2em;color: black;border-radius: 0.25em;background-color: #f0f8ff;}#sk-container-id-3 input.sk-toggleable__control:checked~div.sk-toggleable__content {max-height: 200px;max-width: 100%;overflow: auto;}#sk-container-id-3 input.sk-toggleable__control:checked~label.sk-toggleable__label-arrow:before {content: \"▾\";}#sk-container-id-3 div.sk-estimator input.sk-toggleable__control:checked~label.sk-toggleable__label {background-color: #d4ebff;}#sk-container-id-3 div.sk-label input.sk-toggleable__control:checked~label.sk-toggleable__label {background-color: #d4ebff;}#sk-container-id-3 input.sk-hidden--visually {border: 0;clip: rect(1px 1px 1px 1px);clip: rect(1px, 1px, 1px, 1px);height: 1px;margin: -1px;overflow: hidden;padding: 0;position: absolute;width: 1px;}#sk-container-id-3 div.sk-estimator {font-family: monospace;background-color: #f0f8ff;border: 1px dotted black;border-radius: 0.25em;box-sizing: border-box;margin-bottom: 0.5em;}#sk-container-id-3 div.sk-estimator:hover {background-color: #d4ebff;}#sk-container-id-3 div.sk-parallel-item::after {content: \"\";width: 100%;border-bottom: 1px solid gray;flex-grow: 1;}#sk-container-id-3 div.sk-label:hover label.sk-toggleable__label {background-color: #d4ebff;}#sk-container-id-3 div.sk-serial::before {content: \"\";position: absolute;border-left: 1px solid gray;box-sizing: border-box;top: 0;bottom: 0;left: 50%;z-index: 0;}#sk-container-id-3 div.sk-serial {display: flex;flex-direction: column;align-items: center;background-color: white;padding-right: 0.2em;padding-left: 0.2em;position: relative;}#sk-container-id-3 div.sk-item {position: relative;z-index: 1;}#sk-container-id-3 div.sk-parallel {display: flex;align-items: stretch;justify-content: center;background-color: white;position: relative;}#sk-container-id-3 div.sk-item::before, #sk-container-id-3 div.sk-parallel-item::before {content: \"\";position: absolute;border-left: 1px solid gray;box-sizing: border-box;top: 0;bottom: 0;left: 50%;z-index: -1;}#sk-container-id-3 div.sk-parallel-item {display: flex;flex-direction: column;z-index: 1;position: relative;background-color: white;}#sk-container-id-3 div.sk-parallel-item:first-child::after {align-self: flex-end;width: 50%;}#sk-container-id-3 div.sk-parallel-item:last-child::after {align-self: flex-start;width: 50%;}#sk-container-id-3 div.sk-parallel-item:only-child::after {width: 0;}#sk-container-id-3 div.sk-dashed-wrapped {border: 1px dashed gray;margin: 0 0.4em 0.5em 0.4em;box-sizing: border-box;padding-bottom: 0.4em;background-color: white;}#sk-container-id-3 div.sk-label label {font-family: monospace;font-weight: bold;display: inline-block;line-height: 1.2em;}#sk-container-id-3 div.sk-label-container {text-align: center;}#sk-container-id-3 div.sk-container {/* jupyter's `normalize.less` sets `[hidden] { display: none; }` but bootstrap.min.css set `[hidden] { display: none !important; }` so we also need the `!important` here to be able to override the default hidden behavior on the sphinx rendered scikit-learn.org. See: https://github.com/scikit-learn/scikit-learn/issues/21755 */display: inline-block !important;position: relative;}#sk-container-id-3 div.sk-text-repr-fallback {display: none;}</style><div id=\"sk-container-id-3\" class=\"sk-top-container\"><div class=\"sk-text-repr-fallback\"><pre>LogisticRegression(class_weight={&#x27;ham&#x27;: 6.459170013386881, &#x27;spam&#x27;: 1})</pre><b>In a Jupyter environment, please rerun this cell to show the HTML representation or trust the notebook. <br />On GitHub, the HTML representation is unable to render, please try loading this page with nbviewer.org.</b></div><div class=\"sk-container\" hidden><div class=\"sk-item\"><div class=\"sk-estimator sk-toggleable\"><input class=\"sk-toggleable__control sk-hidden--visually\" id=\"sk-estimator-id-3\" type=\"checkbox\" checked><label for=\"sk-estimator-id-3\" class=\"sk-toggleable__label sk-toggleable__label-arrow\">LogisticRegression</label><div class=\"sk-toggleable__content\"><pre>LogisticRegression(class_weight={&#x27;ham&#x27;: 6.459170013386881, &#x27;spam&#x27;: 1})</pre></div></div></div></div></div>"
      ],
      "text/plain": [
       "LogisticRegression(class_weight={'ham': 6.459170013386881, 'spam': 1})"
      ]
     },
     "execution_count": 44,
     "metadata": {},
     "output_type": "execute_result"
    }
   ],
   "source": [
    "# Define class weights\n",
    "class_weights = {'spam': 1, 'ham': 4825 / 747}  # Weight ham class higher to balance the classes\n",
    "\n",
    "# Train the logistic regression model with class weights\n",
    "logistic_model_weighted = LogisticRegression(class_weight=class_weights)\n",
    "logistic_model_weighted.fit(X_train, y_train)\n"
   ]
  },
  {
   "cell_type": "code",
   "execution_count": 48,
   "id": "10319f2f-5c10-47fd-8f60-028cab04b8a1",
   "metadata": {},
   "outputs": [
    {
     "data": {
      "image/png": "[encoded data removed]",
      "text/plain": [
       "<Figure size 640x480 with 2 Axes>"
      ]
     },
     "metadata": {},
     "output_type": "display_data"
    },
    {
     "name": "stdout",
     "output_type": "stream",
     "text": [
      "              precision    recall  f1-score   support\n",
      "\n",
      "         Ham       0.99      0.99      0.99      1227\n",
      "        Spam       0.93      0.90      0.91       166\n",
      "\n",
      "    accuracy                           0.98      1393\n",
      "   macro avg       0.96      0.95      0.95      1393\n",
      "weighted avg       0.98      0.98      0.98      1393\n",
      "\n"
     ]
    }
   ],
   "source": [
    "from sklearn.metrics import classification_report, confusion_matrix\n",
    "y_predict = logistic_model.predict(X_test)\n",
    "cm = confusion_matrix(y_test, y_predict)\n",
    "sns.heatmap(cm, annot=True, fmt='d', cmap='Blues')\n",
    "plt.xlabel('Predicted Labels')\n",
    "plt.ylabel('True Labels')\n",
    "plt.title('Confusion Matrix for Email Spam Detection')\n",
    "plt.show()\n",
    "print(classification_report(y_test, y_predict, target_names=['Ham', 'Spam']))"
   ]
  },
  {
   "cell_type": "code",
   "execution_count": 51,
   "id": "dd653c33-072f-4eab-8934-f28db29a30df",
   "metadata": {},
   "outputs": [
    {
     "name": "stdout",
     "output_type": "stream",
     "text": [
      "Accuracy of the predictions: 100.00%\n",
      "Email message: Congratulations! You've won a $1000 gift card. Click here to claim your prize.\n",
      "Predicted label: Spam, Actual label: Spam\n",
      "\n",
      "Email message: Dear colleague, please find attached the meeting agenda for tomorrow.\n",
      "Predicted label: Ham, Actual label: Ham\n",
      "\n",
      "Email message: Important: Your account has been compromised. Please reset your password immediately.\n",
      "Predicted label: Spam, Actual label: Spam\n",
      "\n",
      "Email message: Hi, are we still meeting for lunch tomorrow?\n",
      "Predicted label: Ham, Actual label: Ham\n",
      "\n"
     ]
    }
   ],
   "source": [
    "from sklearn.metrics import accuracy_score\n",
    "new_email_data = [\n",
    "    {\"message\": \"Congratulations! You've won a $1000 gift card. Click here to claim your prize.\", \"actual_label\": 1},\n",
    "    {\"message\": \"Dear colleague, please find attached the meeting agenda for tomorrow.\", \"actual_label\": 0},\n",
    "    {\"message\": \"Important: Your account has been compromised. Please reset your password immediately.\", \"actual_label\": 1},\n",
    "    {\"message\": \"Hi, are we still meeting for lunch tomorrow?\", \"actual_label\": 0}\n",
    "]\n",
    "new_email_messages = [email[\"message\"] for email in new_email_data]\n",
    "actual_labels = [email[\"actual_label\"] for email in new_email_data]\n",
    "new_email_messages_tfidf = tfidf_vectorizer.transform(new_email_messages)\n",
    "predictions = logistic_model.predict(new_email_messages_tfidf)\n",
    "accuracy = accuracy_score(actual_labels, predictions)\n",
    "print(f\"Accuracy of the predictions: {accuracy * 100:.2f}%\")\n",
    "predicted_labels = ['Spam' if label == 1 else 'Ham' for label in predictions]\n",
    "actual_labels_text = ['Spam' if label == 1 else 'Ham' for label in actual_labels]\n",
    "for i, message in enumerate(new_email_messages):\n",
    "    print(f\"Email message: {message}\\nPredicted label: {predicted_labels[i]}, Actual label: {actual_labels_text[i]}\\n\")\n"
   ]
  },
  {
   "cell_type": "code",
   "execution_count": null,
   "id": "51f0f35e-7f71-47c0-a4af-f2aff1318bd2",
   "metadata": {},
   "outputs": [],
   "source": []
  }
 ],
 "metadata": {
  "kernelspec": {
   "display_name": "Python 3 (ipykernel)",
   "language": "python",
   "name": "python3"
  },
  "language_info": {
   "codemirror_mode": {
    "name": "ipython",
    "version": 3
   },
   "file_extension": ".py",
   "mimetype": "text/x-python",
   "name": "python",
   "nbconvert_exporter": "python",
   "pygments_lexer": "ipython3",
   "version": "3.11.7"
  }
 },
 "nbformat": 4,
 "nbformat_minor": 5
}
